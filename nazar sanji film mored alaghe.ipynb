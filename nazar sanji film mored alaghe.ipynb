{
 "cells": [
  {
   "cell_type": "code",
   "execution_count": 6,
   "id": "e723df49",
   "metadata": {},
   "outputs": [
    {
     "name": "stdout",
     "output_type": "stream",
     "text": [
      "tedad afrad ra vared konid : 2\n",
      "esm fard va janr mored alaghe : zs History\n",
      "esm fard va janr mored alaghe : sdsdf History\n",
      "History : 2\n",
      "Action : 0\n",
      "Adventure : 0\n",
      "Comedy : 0\n",
      "Horror : 0\n",
      "Romance : 0\n"
     ]
    }
   ],
   "source": [
    "from multiprocessing.sharedctypes import Value\n",
    "from typing import OrderedDict\n",
    "\n",
    "a=0\n",
    "b=0\n",
    "c=0\n",
    "d=0\n",
    "e=0\n",
    "f=0\n",
    "x=int(input('tedad afrad ra vared konid : '))\n",
    "x2=[]\n",
    "dic1=OrderedDict()\n",
    "dic3=OrderedDict()\n",
    "for i in range(0,x):\n",
    "    x1=[str(n) for n in input('esm fard va janr mored alaghe : ').split()]\n",
    "    x2.append(x1)\n",
    "for i in x2:\n",
    "    if 'Horror' in i:\n",
    "        a+=1\n",
    "    if 'Romance' in i:\n",
    "        b+=1\n",
    "    if 'Comedy' in i:\n",
    "        c+=1\n",
    "    if 'History' in i:\n",
    "        d+=1\n",
    "    if 'Adventure' in i:\n",
    "        e+=1\n",
    "    if 'Action' in i:\n",
    "        f+=1\n",
    "\n",
    "dic1['Horror']=a\n",
    "dic1['Romance']=b\n",
    "dic1['Comedy']=c\n",
    "dic1['History']=d\n",
    "dic1['Adventure']=e\n",
    "dic1['Action']=f\n",
    "\n",
    "dict1=list(sorted(dic1.items()))\n",
    "dic3=dict(dict1)\n",
    "\n",
    "sort_dic = sorted(dic3.items(), key=lambda x: x[1] , reverse=True)\n",
    "for i in sort_dic:\n",
    "\tprint(i[0],':',i[1])\n",
    "        \n"
   ]
  },
  {
   "cell_type": "code",
   "execution_count": null,
   "id": "bfa2a442",
   "metadata": {},
   "outputs": [],
   "source": []
  }
 ],
 "metadata": {
  "kernelspec": {
   "display_name": "Python 3 (ipykernel)",
   "language": "python",
   "name": "python3"
  },
  "language_info": {
   "codemirror_mode": {
    "name": "ipython",
    "version": 3
   },
   "file_extension": ".py",
   "mimetype": "text/x-python",
   "name": "python",
   "nbconvert_exporter": "python",
   "pygments_lexer": "ipython3",
   "version": "3.9.13"
  }
 },
 "nbformat": 4,
 "nbformat_minor": 5
}
